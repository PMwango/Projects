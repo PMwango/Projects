{
  "nbformat": 4,
  "nbformat_minor": 0,
  "metadata": {
    "colab": {
      "provenance": [],
      "authorship_tag": "ABX9TyNsr33aENd9Ml0TuZkBQCq0",
      "include_colab_link": true
    },
    "kernelspec": {
      "name": "python3",
      "display_name": "Python 3"
    },
    "language_info": {
      "name": "python"
    }
  },
  "cells": [
    {
      "cell_type": "markdown",
      "metadata": {
        "id": "view-in-github",
        "colab_type": "text"
      },
      "source": [
        "<a href=\"https://colab.research.google.com/github/PMwango/Projects/blob/main/Python_Bro_Code.ipynb\" target=\"_parent\"><img src=\"https://colab.research.google.com/assets/colab-badge.svg\" alt=\"Open In Colab\"/></a>"
      ]
    },
    {
      "cell_type": "code",
      "source": [
        "#This is my first Python code\n",
        "#This is a comment."
      ],
      "metadata": {
        "id": "IeFi_T3_3u0T"
      },
      "execution_count": null,
      "outputs": []
    },
    {
      "cell_type": "code",
      "execution_count": 17,
      "metadata": {
        "colab": {
          "base_uri": "https://localhost:8080/"
        },
        "id": "VpTuJSvT2qbe",
        "outputId": "d2a4fd99-80c7-4394-e63f-6c03e4620842"
      },
      "outputs": [
        {
          "output_type": "stream",
          "name": "stdout",
          "text": [
            "I like pizza!\n"
          ]
        }
      ],
      "source": [
        "print (\"I like pizza!\")"
      ]
    },
    {
      "cell_type": "code",
      "source": [
        "print (\"It's really good!\")"
      ],
      "metadata": {
        "colab": {
          "base_uri": "https://localhost:8080/"
        },
        "id": "CkcS3y063F3l",
        "outputId": "cb395ff0-6009-41fc-fdd5-1af5979ed0fd"
      },
      "execution_count": 3,
      "outputs": [
        {
          "output_type": "stream",
          "name": "stdout",
          "text": [
            "It's really good!\n"
          ]
        }
      ]
    },
    {
      "cell_type": "code",
      "source": [
        "#Variable - A reusable container for storing a value (string, integer, float, boolean)\n",
        "#           A variable behaves as if it was the value it contains.\n",
        "#           Each variable should have a unique name.\n",
        "#           Once you assign a value to a variable, you should print without including the\n",
        "#           quotation marks. You could use your variable along with some text by using an f-string and curly brackets."
      ],
      "metadata": {
        "id": "sxxjALfg31uF"
      },
      "execution_count": null,
      "outputs": []
    },
    {
      "cell_type": "code",
      "source": [
        "# This code assigns values to the variables then prints out my name.\n",
        "# The second code includes an f-string which prints out a greeting before my name.\n",
        "# I've also realized that using \"\" is better than '' because of short form or\n",
        "# possession words e.g it's.\n",
        "\n",
        "first_name = \"Pauline\"\n",
        "last_name  = \"Mwango\"\n",
        "print (first_name, last_name)\n",
        "print (f\"Hello {first_name} {last_name}!\")"
      ],
      "metadata": {
        "colab": {
          "base_uri": "https://localhost:8080/"
        },
        "id": "Z-YSurkj4JZ-",
        "outputId": "564bb728-eced-4196-bacb-9893171c6b8b"
      },
      "execution_count": 16,
      "outputs": [
        {
          "output_type": "stream",
          "name": "stdout",
          "text": [
            "Pauline Mwango\n",
            "Hello Pauline Mwango!\n"
          ]
        }
      ]
    },
    {
      "cell_type": "code",
      "source": [
        "print (f\"Hello {first_name}\")"
      ],
      "metadata": {
        "colab": {
          "base_uri": "https://localhost:8080/"
        },
        "id": "gZqUFyr-5dhm",
        "outputId": "cd523de5-b72b-4781-8d4a-d195efb8384e"
      },
      "execution_count": 9,
      "outputs": [
        {
          "output_type": "stream",
          "name": "stdout",
          "text": [
            "Hello Pauline\n"
          ]
        }
      ]
    },
    {
      "cell_type": "code",
      "source": [
        "# Just to practise a little bit more:\n",
        "first_name1 = \"Jane\"\n",
        "last_name1 = \"Doe\"\n",
        "print (first_name1, last_name1)\n",
        "print (f\"Good morning {first_name1} {last_name1}!\")\n",
        "\n"
      ],
      "metadata": {
        "colab": {
          "base_uri": "https://localhost:8080/"
        },
        "id": "pMrn82VY7udc",
        "outputId": "3b805a2d-26d2-4b99-8686-6f94a0da0a5e"
      },
      "execution_count": 20,
      "outputs": [
        {
          "output_type": "stream",
          "name": "stdout",
          "text": [
            "Jane Doe\n",
            "Good morning Jane Doe!\n"
          ]
        }
      ]
    },
    {
      "cell_type": "code",
      "source": [
        "#One last time without referring to the examples:\n",
        "\n",
        "first_name2 = \"John\"\n",
        "last_name2 = \"Doe\"\n",
        "print (first_name2, last_name2)\n",
        "print (f\"Welcome Home {first_name2} {last_name2}!\")"
      ],
      "metadata": {
        "colab": {
          "base_uri": "https://localhost:8080/"
        },
        "id": "s-CMNQZh8mPG",
        "outputId": "5f0fa2b6-6832-4ebe-afa7-db86007ad6aa"
      },
      "execution_count": 21,
      "outputs": [
        {
          "output_type": "stream",
          "name": "stdout",
          "text": [
            "John Doe\n",
            "Welcome Home John Doe!\n"
          ]
        }
      ]
    },
    {
      "cell_type": "code",
      "source": [
        "#These are strings\n",
        "first_name3 = \"Tania\"\n",
        "food = \"pizza\"\n",
        "email = \"taniakenya@gmail.com\"\n",
        "\n",
        "print (f\"Hello {first_name3}.\")\n",
        "print (f\"You like {food}.\")\n",
        "print (f\"Your email is {email}.\")"
      ],
      "metadata": {
        "colab": {
          "base_uri": "https://localhost:8080/"
        },
        "id": "jGFSUrqM9bIO",
        "outputId": "b9e2617d-02ea-4dc9-e8f6-69d72249e547"
      },
      "execution_count": 28,
      "outputs": [
        {
          "output_type": "stream",
          "name": "stdout",
          "text": [
            "Hello Tania.\n",
            "You like pizza.\n",
            "Your email is taniakenya@gmail.com.\n"
          ]
        }
      ]
    },
    {
      "cell_type": "code",
      "source": [
        "#Integers - An integer is a whole number. Integers should not be in \"\" because that would make them a string.\n",
        "#Strings cannot be used in arithmetic expressions integers can.\n",
        "Age = 26\n",
        "quantity = 3\n",
        "num_of_students = 30\n",
        "print (Age)\n",
        "print (f\"You are {Age} years old.\")\n",
        "print (f\"You are buying {quantity} items.\")\n",
        "print (f\"Your class has {num_of_students} students.\")"
      ],
      "metadata": {
        "colab": {
          "base_uri": "https://localhost:8080/"
        },
        "id": "b1nU_AQB-gyW",
        "outputId": "09b12847-26f9-4913-8880-d2a95335b15f"
      },
      "execution_count": 31,
      "outputs": [
        {
          "output_type": "stream",
          "name": "stdout",
          "text": [
            "26\n",
            "You are 26 years old.\n",
            "You are buying 3 items.\n",
            "Your class has 30 students.\n"
          ]
        }
      ]
    },
    {
      "cell_type": "code",
      "source": [
        "#Floats - Floating point numbers - a number that contains a decimal portion.\n",
        "price = 10.99\n",
        "gpa = 3.5\n",
        "distance = 5.5\n",
        "\n",
        "print (f\"The price is ${price}.\")\n",
        "print (f\"Your gpa is {gpa}.\")\n",
        "print (f\"The distance is {distance}km.\")\n"
      ],
      "metadata": {
        "colab": {
          "base_uri": "https://localhost:8080/"
        },
        "id": "xe_kB6BeAGdu",
        "outputId": "7a958ed2-7e30-4e8e-efdf-2b9cee9a949c"
      },
      "execution_count": 33,
      "outputs": [
        {
          "output_type": "stream",
          "name": "stdout",
          "text": [
            "The price is $10.99.\n",
            "Your gpa is 3.5.\n",
            "The distance is 5.5km.\n"
          ]
        }
      ]
    },
    {
      "cell_type": "code",
      "source": [
        "#Boolean - TRUE OR FALSE (Binary)\n",
        "#Used with if, else statements.\n",
        "is_student = True\n",
        "is_not_student = False\n",
        "is_online = False\n",
        "\n",
        "print (f\"Are you a student? : {is_student}\")\n",
        "\n",
        "if is_online:\n",
        "    print (\"You are online\")\n",
        "else:\n",
        "    print (\"You are offline\")\n"
      ],
      "metadata": {
        "colab": {
          "base_uri": "https://localhost:8080/"
        },
        "id": "r2jizD7rA1Em",
        "outputId": "caca5676-82ab-4f04-91a0-adf07301708d"
      },
      "execution_count": 42,
      "outputs": [
        {
          "output_type": "stream",
          "name": "stdout",
          "text": [
            "Are you a student? : True\n",
            "You are offline\n"
          ]
        }
      ]
    }
  ]
}